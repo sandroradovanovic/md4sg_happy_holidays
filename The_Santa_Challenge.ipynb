{
 "cells": [
  {
   "cell_type": "markdown",
   "metadata": {
    "id": "6xDK3mjpFkiT"
   },
   "source": [
    "# EAAMO/MD4SG Data Challenge\n",
    "\n",
    "Dear EAAMO/MD4SG,\n",
    "\n",
    "As the holiday season twinkles upon us, an EAAMO/MD4SG Santa Claus, have a special challenge for you! This isn't just any ordinary task – it's a merry journey through the world of data and analytics!\n",
    "\n",
    "> \"In my sack, I've got a dataset, as jolly as can be. Your mission, should you choose to accept it, is to predict 'y' based on 'X'. But hold your reindeers! We're not seeking perfect accuracy here. Instead, like a candy cane we seek let's make it simple and sweet.\"\n",
    "\n",
    "Complete this challenge, and you'll earn a special place on my Nice List. Plus, there might just be a little surprise waiting for you in your stocking!\n",
    "\n",
    "## 🌈 Rules: Santa's Guidelines\n",
    "\n",
    "- **Keep it Merry and Bright**: Remember, we're here for holiday cheer, not just numbers and charts.\n",
    "- **Simplicity is Key**: You don't need to dive into complex algorithms – a simple approach will do.\n",
    "- **Share the Joy**: Once you've created your data visualization, share it with your fellow elves. We're all about spreading cheer!\n",
    "- **Enjoy the Process**: This challenge is about enjoying the journey, not just the destination.\n",
    "\n",
    "Happy Data Exploring! 🎄✨\n",
    "\n",
    "## Loading Our Holiday Dataset: A Step-by-Step Guide\n",
    "\n",
    "Ho ho ho! Now that we're all set for our festive data adventure, it's time to unwrap our dataset and see the magical numbers inside. We'll use a handy tool from the elves' tech workshop – the `pandas` package! This little helper is perfect for reading and organizing our data."
   ]
  },
  {
   "cell_type": "code",
   "execution_count": 1,
   "metadata": {
    "id": "FsZAGREkEkoW"
   },
   "outputs": [
    {
     "data": {
      "text/html": [
       "<div>\n",
       "<style scoped>\n",
       "    .dataframe tbody tr th:only-of-type {\n",
       "        vertical-align: middle;\n",
       "    }\n",
       "\n",
       "    .dataframe tbody tr th {\n",
       "        vertical-align: top;\n",
       "    }\n",
       "\n",
       "    .dataframe thead th {\n",
       "        text-align: right;\n",
       "    }\n",
       "</style>\n",
       "<table border=\"1\" class=\"dataframe\">\n",
       "  <thead>\n",
       "    <tr style=\"text-align: right;\">\n",
       "      <th></th>\n",
       "      <th>y</th>\n",
       "      <th>x1</th>\n",
       "      <th>x2</th>\n",
       "      <th>x3</th>\n",
       "      <th>x4</th>\n",
       "      <th>x5</th>\n",
       "      <th>x6</th>\n",
       "    </tr>\n",
       "  </thead>\n",
       "  <tbody>\n",
       "    <tr>\n",
       "      <th>0</th>\n",
       "      <td>1.17</td>\n",
       "      <td>-0.01</td>\n",
       "      <td>-0.33</td>\n",
       "      <td>-0.04</td>\n",
       "      <td>0.23</td>\n",
       "      <td>-0.05</td>\n",
       "      <td>0.20</td>\n",
       "    </tr>\n",
       "    <tr>\n",
       "      <th>1</th>\n",
       "      <td>0.06</td>\n",
       "      <td>-0.00</td>\n",
       "      <td>-0.10</td>\n",
       "      <td>-0.03</td>\n",
       "      <td>0.07</td>\n",
       "      <td>-0.01</td>\n",
       "      <td>-0.05</td>\n",
       "    </tr>\n",
       "    <tr>\n",
       "      <th>2</th>\n",
       "      <td>-2.13</td>\n",
       "      <td>-0.04</td>\n",
       "      <td>0.30</td>\n",
       "      <td>0.03</td>\n",
       "      <td>-0.52</td>\n",
       "      <td>-0.17</td>\n",
       "      <td>0.12</td>\n",
       "    </tr>\n",
       "    <tr>\n",
       "      <th>3</th>\n",
       "      <td>-0.42</td>\n",
       "      <td>0.01</td>\n",
       "      <td>0.11</td>\n",
       "      <td>0.03</td>\n",
       "      <td>-0.18</td>\n",
       "      <td>0.04</td>\n",
       "      <td>-0.19</td>\n",
       "    </tr>\n",
       "    <tr>\n",
       "      <th>4</th>\n",
       "      <td>0.72</td>\n",
       "      <td>-0.01</td>\n",
       "      <td>-0.05</td>\n",
       "      <td>-0.02</td>\n",
       "      <td>0.39</td>\n",
       "      <td>0.14</td>\n",
       "      <td>0.31</td>\n",
       "    </tr>\n",
       "  </tbody>\n",
       "</table>\n",
       "</div>"
      ],
      "text/plain": [
       "      y    x1    x2    x3    x4    x5    x6\n",
       "0  1.17 -0.01 -0.33 -0.04  0.23 -0.05  0.20\n",
       "1  0.06 -0.00 -0.10 -0.03  0.07 -0.01 -0.05\n",
       "2 -2.13 -0.04  0.30  0.03 -0.52 -0.17  0.12\n",
       "3 -0.42  0.01  0.11  0.03 -0.18  0.04 -0.19\n",
       "4  0.72 -0.01 -0.05 -0.02  0.39  0.14  0.31"
      ]
     },
     "execution_count": 1,
     "metadata": {},
     "output_type": "execute_result"
    }
   ],
   "source": [
    "import matplotlib.pyplot as plt\n",
    "%matplotlib inline\n",
    "import seaborn as sns\n",
    "\n",
    "import pandas as pd\n",
    "pd.options.display.float_format = '{:.2f}'.format\n",
    "\n",
    "df = pd.read_csv('santa_data_challenge.csv')\n",
    "df.head()"
   ]
  },
  {
   "cell_type": "markdown",
   "metadata": {
    "id": "O_IJykrgItYr"
   },
   "source": [
    "## 🎨 Data Visualization: Paint the North Pole!\n",
    "\n",
    "Since we're not chasing after accuracy, let's focus on something fun – data visualization! Create a visual masterpiece that captures the essence of our dataset. Let your creativity shine like Rudolph's nose!\n",
    "\n",
    "With a sleigh full of X's and a sparkling y, we're on a merry mission to understand the numerical wonders of our data. Our dataset is like a snowy field with six glistening `X`'s and one dazzling `y`, all shimmering with numerical values. Just like counting the snowflakes on a winter's night, let's explore what these numbers have in store for us.\n",
    "\n",
    "By exploring these descriptive statistics, we'll gain a deeper understanding and appreciation of our holiday dataset. Each number is a piece of the puzzle in our merry regression challenge.\n",
    "\n",
    "So, let's jingle all the way through this data exploration journey, uncovering the stories hidden in numbers and spreading the joy of insights!"
   ]
  },
  {
   "cell_type": "code",
   "execution_count": 2,
   "metadata": {
    "colab": {
     "base_uri": "https://localhost:8080/",
     "height": 300
    },
    "id": "PgFEdyYvJVhl",
    "outputId": "824ab277-e82c-43f0-e851-ac3eba02b36a"
   },
   "outputs": [
    {
     "data": {
      "text/html": [
       "<div>\n",
       "<style scoped>\n",
       "    .dataframe tbody tr th:only-of-type {\n",
       "        vertical-align: middle;\n",
       "    }\n",
       "\n",
       "    .dataframe tbody tr th {\n",
       "        vertical-align: top;\n",
       "    }\n",
       "\n",
       "    .dataframe thead th {\n",
       "        text-align: right;\n",
       "    }\n",
       "</style>\n",
       "<table border=\"1\" class=\"dataframe\">\n",
       "  <thead>\n",
       "    <tr style=\"text-align: right;\">\n",
       "      <th></th>\n",
       "      <th>y</th>\n",
       "      <th>x1</th>\n",
       "      <th>x2</th>\n",
       "      <th>x3</th>\n",
       "      <th>x4</th>\n",
       "      <th>x5</th>\n",
       "      <th>x6</th>\n",
       "    </tr>\n",
       "  </thead>\n",
       "  <tbody>\n",
       "    <tr>\n",
       "      <th>count</th>\n",
       "      <td>6171.00</td>\n",
       "      <td>6171.00</td>\n",
       "      <td>6171.00</td>\n",
       "      <td>6171.00</td>\n",
       "      <td>6171.00</td>\n",
       "      <td>6171.00</td>\n",
       "      <td>6171.00</td>\n",
       "    </tr>\n",
       "    <tr>\n",
       "      <th>mean</th>\n",
       "      <td>0.00</td>\n",
       "      <td>-0.00</td>\n",
       "      <td>-0.00</td>\n",
       "      <td>0.00</td>\n",
       "      <td>0.00</td>\n",
       "      <td>-0.00</td>\n",
       "      <td>-0.00</td>\n",
       "    </tr>\n",
       "    <tr>\n",
       "      <th>std</th>\n",
       "      <td>1.20</td>\n",
       "      <td>0.04</td>\n",
       "      <td>0.31</td>\n",
       "      <td>0.03</td>\n",
       "      <td>0.27</td>\n",
       "      <td>0.15</td>\n",
       "      <td>0.47</td>\n",
       "    </tr>\n",
       "    <tr>\n",
       "      <th>min</th>\n",
       "      <td>-3.09</td>\n",
       "      <td>-0.16</td>\n",
       "      <td>-1.34</td>\n",
       "      <td>-0.09</td>\n",
       "      <td>-0.86</td>\n",
       "      <td>-0.55</td>\n",
       "      <td>-1.78</td>\n",
       "    </tr>\n",
       "    <tr>\n",
       "      <th>25%</th>\n",
       "      <td>-0.93</td>\n",
       "      <td>-0.03</td>\n",
       "      <td>-0.21</td>\n",
       "      <td>-0.02</td>\n",
       "      <td>-0.18</td>\n",
       "      <td>-0.10</td>\n",
       "      <td>-0.31</td>\n",
       "    </tr>\n",
       "    <tr>\n",
       "      <th>50%</th>\n",
       "      <td>-0.10</td>\n",
       "      <td>-0.00</td>\n",
       "      <td>0.00</td>\n",
       "      <td>-0.00</td>\n",
       "      <td>0.00</td>\n",
       "      <td>-0.00</td>\n",
       "      <td>0.01</td>\n",
       "    </tr>\n",
       "    <tr>\n",
       "      <th>75%</th>\n",
       "      <td>0.79</td>\n",
       "      <td>0.03</td>\n",
       "      <td>0.21</td>\n",
       "      <td>0.02</td>\n",
       "      <td>0.18</td>\n",
       "      <td>0.10</td>\n",
       "      <td>0.32</td>\n",
       "    </tr>\n",
       "    <tr>\n",
       "      <th>max</th>\n",
       "      <td>3.56</td>\n",
       "      <td>0.16</td>\n",
       "      <td>1.19</td>\n",
       "      <td>0.10</td>\n",
       "      <td>0.99</td>\n",
       "      <td>0.51</td>\n",
       "      <td>1.78</td>\n",
       "    </tr>\n",
       "  </tbody>\n",
       "</table>\n",
       "</div>"
      ],
      "text/plain": [
       "            y      x1      x2      x3      x4      x5      x6\n",
       "count 6171.00 6171.00 6171.00 6171.00 6171.00 6171.00 6171.00\n",
       "mean     0.00   -0.00   -0.00    0.00    0.00   -0.00   -0.00\n",
       "std      1.20    0.04    0.31    0.03    0.27    0.15    0.47\n",
       "min     -3.09   -0.16   -1.34   -0.09   -0.86   -0.55   -1.78\n",
       "25%     -0.93   -0.03   -0.21   -0.02   -0.18   -0.10   -0.31\n",
       "50%     -0.10   -0.00    0.00   -0.00    0.00   -0.00    0.01\n",
       "75%      0.79    0.03    0.21    0.02    0.18    0.10    0.32\n",
       "max      3.56    0.16    1.19    0.10    0.99    0.51    1.78"
      ]
     },
     "execution_count": 2,
     "metadata": {},
     "output_type": "execute_result"
    }
   ],
   "source": [
    "df.describe()"
   ]
  },
  {
   "cell_type": "markdown",
   "metadata": {
    "id": "s87qxwzLJYMu"
   },
   "source": [
    "Santa, in his infinite wisdom, has hinted that the key to our quest lies in the art of data visualization. So, let's embark on this next step with excitement twinkling in our eyes!"
   ]
  },
  {
   "cell_type": "code",
   "execution_count": 3,
   "metadata": {
    "colab": {
     "base_uri": "https://localhost:8080/",
     "height": 282
    },
    "id": "1uSLXOaqKmRS",
    "outputId": "09b3b871-747a-488b-abfe-90a231f09f25"
   },
   "outputs": [
    {
     "data": {
      "text/plain": [
       "<Axes: >"
      ]
     },
     "execution_count": 3,
     "metadata": {},
     "output_type": "execute_result"
    },
    {
     "data": {
      "image/png": "[encoded data removed]",
      "text/plain": [
       "<Figure size 640x480 with 1 Axes>"
      ]
     },
     "metadata": {},
     "output_type": "display_data"
    }
   ],
   "source": [
    "df.boxplot()"
   ]
  },
  {
   "cell_type": "markdown",
   "metadata": {
    "id": "I4pyaKKcL5xr"
   },
   "source": [
    "Alas, my dear elves, even as our Box Plot unfolds before us, it's like a snowstorm where the details are hidden behind a flurry of snowflakes. The attributes, so neatly centered around zero with their standard deviations playing a game of hide and seek between zero and one, don't seem to whisper the secrets we hoped to hear.\n",
    "\n",
    "Do not lose heart, my brave elves! Our journey through this winter wonderland of data is not over. There are more plots to draw, more numbers to explore. We'll find our treasure, I'm sure of it!"
   ]
  },
  {
   "cell_type": "code",
   "execution_count": 4,
   "metadata": {},
   "outputs": [
    {
     "data": {
      "text/html": [
       "<div>\n",
       "<style scoped>\n",
       "    .dataframe tbody tr th:only-of-type {\n",
       "        vertical-align: middle;\n",
       "    }\n",
       "\n",
       "    .dataframe tbody tr th {\n",
       "        vertical-align: top;\n",
       "    }\n",
       "\n",
       "    .dataframe thead th {\n",
       "        text-align: right;\n",
       "    }\n",
       "</style>\n",
       "<table border=\"1\" class=\"dataframe\">\n",
       "  <thead>\n",
       "    <tr style=\"text-align: right;\">\n",
       "      <th></th>\n",
       "      <th>y</th>\n",
       "      <th>x1</th>\n",
       "      <th>x2</th>\n",
       "      <th>x3</th>\n",
       "      <th>x4</th>\n",
       "      <th>x5</th>\n",
       "      <th>x6</th>\n",
       "    </tr>\n",
       "  </thead>\n",
       "  <tbody>\n",
       "    <tr>\n",
       "      <th>y</th>\n",
       "      <td>1.00</td>\n",
       "      <td>0.28</td>\n",
       "      <td>0.27</td>\n",
       "      <td>0.04</td>\n",
       "      <td>0.19</td>\n",
       "      <td>0.28</td>\n",
       "      <td>0.05</td>\n",
       "    </tr>\n",
       "    <tr>\n",
       "      <th>x1</th>\n",
       "      <td>0.28</td>\n",
       "      <td>1.00</td>\n",
       "      <td>0.63</td>\n",
       "      <td>0.41</td>\n",
       "      <td>-0.24</td>\n",
       "      <td>-0.12</td>\n",
       "      <td>0.10</td>\n",
       "    </tr>\n",
       "    <tr>\n",
       "      <th>x2</th>\n",
       "      <td>0.27</td>\n",
       "      <td>0.63</td>\n",
       "      <td>1.00</td>\n",
       "      <td>0.64</td>\n",
       "      <td>-0.42</td>\n",
       "      <td>-0.27</td>\n",
       "      <td>0.22</td>\n",
       "    </tr>\n",
       "    <tr>\n",
       "      <th>x3</th>\n",
       "      <td>0.04</td>\n",
       "      <td>0.41</td>\n",
       "      <td>0.64</td>\n",
       "      <td>1.00</td>\n",
       "      <td>-0.68</td>\n",
       "      <td>-0.49</td>\n",
       "      <td>0.31</td>\n",
       "    </tr>\n",
       "    <tr>\n",
       "      <th>x4</th>\n",
       "      <td>0.19</td>\n",
       "      <td>-0.24</td>\n",
       "      <td>-0.42</td>\n",
       "      <td>-0.68</td>\n",
       "      <td>1.00</td>\n",
       "      <td>0.67</td>\n",
       "      <td>-0.43</td>\n",
       "    </tr>\n",
       "    <tr>\n",
       "      <th>x5</th>\n",
       "      <td>0.28</td>\n",
       "      <td>-0.12</td>\n",
       "      <td>-0.27</td>\n",
       "      <td>-0.49</td>\n",
       "      <td>0.67</td>\n",
       "      <td>1.00</td>\n",
       "      <td>-0.62</td>\n",
       "    </tr>\n",
       "    <tr>\n",
       "      <th>x6</th>\n",
       "      <td>0.05</td>\n",
       "      <td>0.10</td>\n",
       "      <td>0.22</td>\n",
       "      <td>0.31</td>\n",
       "      <td>-0.43</td>\n",
       "      <td>-0.62</td>\n",
       "      <td>1.00</td>\n",
       "    </tr>\n",
       "  </tbody>\n",
       "</table>\n",
       "</div>"
      ],
      "text/plain": [
       "      y    x1    x2    x3    x4    x5    x6\n",
       "y  1.00  0.28  0.27  0.04  0.19  0.28  0.05\n",
       "x1 0.28  1.00  0.63  0.41 -0.24 -0.12  0.10\n",
       "x2 0.27  0.63  1.00  0.64 -0.42 -0.27  0.22\n",
       "x3 0.04  0.41  0.64  1.00 -0.68 -0.49  0.31\n",
       "x4 0.19 -0.24 -0.42 -0.68  1.00  0.67 -0.43\n",
       "x5 0.28 -0.12 -0.27 -0.49  0.67  1.00 -0.62\n",
       "x6 0.05  0.10  0.22  0.31 -0.43 -0.62  1.00"
      ]
     },
     "execution_count": 4,
     "metadata": {},
     "output_type": "execute_result"
    }
   ],
   "source": [
    "df.corr()"
   ]
  },
  {
   "cell_type": "markdown",
   "metadata": {
    "id": "ecKE7_9GNF4G"
   },
   "source": [
    "As we continue our magical journey through the snowy realm of numbers and patterns, we arrive at a sparkling, frost-covered path: the path of correlation. But, oh! As we gazed upon our correlation table, it was like peering into a calm, starless night. The numbers, though neatly aligned, whispered no secrets, sang no songs of hidden relationships. Our variables, like independent snowflakes, seemed to drift alone, unconnected in their journey through our data winterland.\n",
    "\n",
    "## 🌟 Santa's Data Sleigh: Embarking on a Modeling Expedition!\n",
    "\n",
    "It's time to harness the power of our data reindeer and ride into the realm of modeling. Santa's sage advice guides us - worry not about the intricacies of overfitting, but rather embrace the spirit of exploration and learning.\n",
    "\n",
    "Let's start by dividing our dataset into two magical parts: the input attributes, our merry `X`s, and the output attribute, our starry `y`. This is like sorting the toys in Santa's bag before the big delivery night.\n",
    "\n",
    "Remember, my dear elves, in the land of data, the journey is as important as the destination. Each model we build is like lighting a candle on the holiday tree, bringing its own warmth and light to our quest. So, let's march forward with joy and curiosity, ready to learn from whatever our models reveal. Whether they whisper secrets or sing loudly, each is a step towards understanding our mysterious dataset. Onward, to a modeling adventure filled with holiday cheer! 🎅✨📊🌠"
   ]
  },
  {
   "cell_type": "code",
   "execution_count": 5,
   "metadata": {
    "id": "N69Mfi4wFb9T"
   },
   "outputs": [],
   "source": [
    "X, y = df.iloc[:, 1:], df.iloc[:, 0]"
   ]
  },
  {
   "cell_type": "code",
   "execution_count": 6,
   "metadata": {
    "id": "uIH1GZLHId75"
   },
   "outputs": [],
   "source": [
    "from sklearn.linear_model import LinearRegression\n",
    "\n",
    "from sklearn.metrics import mean_absolute_error, mean_squared_error"
   ]
  },
  {
   "cell_type": "code",
   "execution_count": 7,
   "metadata": {
    "colab": {
     "base_uri": "https://localhost:8080/"
    },
    "id": "CwxzzAM5QglS",
    "outputId": "637d6959-c5b1-4a2b-a8f2-0509d31fae3b"
   },
   "outputs": [],
   "source": [
    "model = LinearRegression().fit(X, y)\n",
    "y_pred = model.predict(X)"
   ]
  },
  {
   "cell_type": "code",
   "execution_count": 8,
   "metadata": {
    "colab": {
     "base_uri": "https://localhost:8080/"
    },
    "id": "S51I_DTcQqaM",
    "outputId": "4f70a281-cb2f-450a-befe-523341ad820b"
   },
   "outputs": [
    {
     "name": "stdout",
     "output_type": "stream",
     "text": [
      "The error is: MAE = 0.8227794851454984 and MSE = 0.999838159422885\n"
     ]
    }
   ],
   "source": [
    "mae = mean_absolute_error(y, y_pred)\n",
    "mse = mean_squared_error(y, y_pred)\n",
    "\n",
    "print(f'The error is: MAE = {mae} and MSE = {mse}')"
   ]
  },
  {
   "cell_type": "markdown",
   "metadata": {
    "id": "idgDXx92RGTu"
   },
   "source": [
    "The errors, as vast and wide as a winter blizzard, are obscuring the message we seek. Like trying to read Santa's list in a snowstorm, the answers we're searching for remain hidden behind a veil of large numbers.\n",
    "\n",
    "As we stand amidst this snowy puzzle, let's remember - every error, every twist, and turn in the data is part of our learning journey. We embarked on this quest not just for answers, but for the joy of discovery and the thrill of solving Santa's holiday puzzle. Santa reminded us not to fear overfitting, to embrace the spirit of exploration. In this spirit, let's not be disheartened by the errors but see them as signposts, guiding us to new avenues of inquiry.\n",
    "\n",
    "As we ponder upon Santa's words, a sparkling revelation dawns upon us. Our mission in this jolly data adventure isn't just to chase after perfect predictions. No, it's a much more heartfelt quest - **to understand and learn from our mistakes**. Just like how we learn to be better elves, our goal is to reflect on where our predictions go astray and find joy and wisdom in that journey.\n",
    "\n",
    "## 🎄 A Festive Reflection: Embracing Our Imperfections\n",
    "\n",
    "Let's create a plot comparing the true values of 'y' with the residuals - the differences between our predictions and the actual values. This is like comparing our intended path with the steps we actually took, a map of our journey.  In this plot, each point tells a story - a tale of where we were spot on, and where we wandered off the path. It's a visual narrative of our learning, a canvas that shows both our triumphs and our stumbles.\n",
    "\n",
    "By examining where our predictions differ from reality, we learn. Each residual is a lesson, a chance to understand our model better, to see where it dances gracefully and where it slips on the icy path.\n",
    "\n",
    "Just as Santa encourages us to reflect on our mistakes and grow, this plot of true values versus residuals is our guide to making ourselves and those around us happier. It's not about being perfect; it's about learning, growing, and finding joy in the process."
   ]
  },
  {
   "cell_type": "code",
   "execution_count": 9,
   "metadata": {
    "colab": {
     "base_uri": "https://localhost:8080/",
     "height": 391
    },
    "id": "9tGNSxVPFfKC",
    "outputId": "08b334a5-7e86-43a9-dd01-7854d45055ad"
   },
   "outputs": [
    {
     "data": {
      "text/plain": [
       "<matplotlib.collections.PathCollection at 0x1331d479d30>"
      ]
     },
     "execution_count": 9,
     "metadata": {},
     "output_type": "execute_result"
    },
    {
     "data": {
      "image/png": "[encoded data removed]",
      "text/plain": [
       "<Figure size 1200x600 with 1 Axes>"
      ]
     },
     "metadata": {},
     "output_type": "display_data"
    }
   ],
   "source": [
    "plt.figure(figsize=(12,6))\n",
    "\n",
    "plt.scatter(y_pred, y - y_pred, s=5)"
   ]
  }
 ],
 "metadata": {
  "colab": {
   "provenance": []
  },
  "kernelspec": {
   "display_name": "Python 3 (ipykernel)",
   "language": "python",
   "name": "python3"
  },
  "language_info": {
   "codemirror_mode": {
    "name": "ipython",
    "version": 3
   },
   "file_extension": ".py",
   "mimetype": "text/x-python",
   "name": "python",
   "nbconvert_exporter": "python",
   "pygments_lexer": "ipython3",
   "version": "3.9.13"
  }
 },
 "nbformat": 4,
 "nbformat_minor": 1
}
